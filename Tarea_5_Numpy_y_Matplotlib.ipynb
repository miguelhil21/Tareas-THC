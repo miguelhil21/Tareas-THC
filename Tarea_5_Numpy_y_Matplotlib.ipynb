{
  "nbformat": 4,
  "nbformat_minor": 0,
  "metadata": {
    "colab": {
      "provenance": []
    },
    "kernelspec": {
      "name": "python3",
      "display_name": "Python 3"
    },
    "language_info": {
      "name": "python"
    }
  },
  "cells": [
    {
      "cell_type": "markdown",
      "source": [
        "**1.- Suma  de matrices rectangulares.**"
      ],
      "metadata": {
        "id": "uciukQ6do2ap"
      }
    },
    {
      "cell_type": "code",
      "source": [
        "import numpy as np\n",
        "a_11=1\n",
        "a_12=1\n",
        "a_13=1\n",
        "a_21=1\n",
        "a_22=1\n",
        "a_23=1\n",
        "a_31=1\n",
        "a_32=1\n",
        "a_33=1\n",
        "b_11=1\n",
        "b_12=1\n",
        "b_13=1\n",
        "b_21=1\n",
        "b_22=1\n",
        "b_23=1\n",
        "b_31=1\n",
        "b_32=1\n",
        "b_33=1\n",
        "\n",
        "A1=np.array([[a_11,a_12,a_13],[a_21,a_22,a_23],[a_31,a_32,a_33]])\n",
        "B1=np.array([[b_11,b_12,b_13],[b_21,b_22,b_23],[b_31,b_32,b_33]])\n",
        "\n",
        "A1+B1"
      ],
      "metadata": {
        "colab": {
          "base_uri": "https://localhost:8080/"
        },
        "id": "NbYC2RzOpDAF",
        "outputId": "cca0b3dd-7911-49c8-dd00-21bc30fb65ce"
      },
      "execution_count": 5,
      "outputs": [
        {
          "output_type": "execute_result",
          "data": {
            "text/plain": [
              "array([[2, 2, 2],\n",
              "       [2, 2, 2],\n",
              "       [2, 2, 2]])"
            ]
          },
          "metadata": {},
          "execution_count": 5
        }
      ]
    },
    {
      "cell_type": "markdown",
      "source": [
        "**2.- Multiplicación entrada a entrada de matrices rectángulares**"
      ],
      "metadata": {
        "id": "LXwcvVOTVL-6"
      }
    },
    {
      "cell_type": "code",
      "source": [
        "A1*B1"
      ],
      "metadata": {
        "colab": {
          "base_uri": "https://localhost:8080/"
        },
        "id": "OdEwnME1Vd3A",
        "outputId": "a23c3617-a2c8-46a1-f811-e038ff3794e6"
      },
      "execution_count": 6,
      "outputs": [
        {
          "output_type": "execute_result",
          "data": {
            "text/plain": [
              "array([[1, 1, 1],\n",
              "       [1, 1, 1],\n",
              "       [1, 1, 1]])"
            ]
          },
          "metadata": {},
          "execution_count": 6
        }
      ]
    },
    {
      "cell_type": "markdown",
      "source": [
        "**3.- La traza de una matriz**"
      ],
      "metadata": {
        "id": "ouHEdQdGXNOu"
      }
    },
    {
      "cell_type": "code",
      "source": [
        "def Tr(A1):\n",
        "  suma=0\n",
        "  for i in range(len(A1)):\n",
        "    suma=suma+A1[i][i]\n",
        "  return suma\n",
        "\n",
        "def Tr(B1):\n",
        "  suma=0\n",
        "  for i in range (len(B1)):\n",
        "    suma=suma+B1[i][i]\n",
        "  return suma\n",
        "\n",
        "print(Tr(A1))\n",
        "print(Tr(B1))\n"
      ],
      "metadata": {
        "colab": {
          "base_uri": "https://localhost:8080/"
        },
        "id": "SAQ-BteZXWKz",
        "outputId": "0450565e-4e67-4344-9434-f9086e93afa6"
      },
      "execution_count": 8,
      "outputs": [
        {
          "output_type": "stream",
          "name": "stdout",
          "text": [
            "3\n",
            "3\n"
          ]
        }
      ]
    },
    {
      "cell_type": "markdown",
      "source": [
        "**4.- La transpuesta de una matriz**"
      ],
      "metadata": {
        "id": "9TVpij2VHYxl"
      }
    },
    {
      "cell_type": "code",
      "source": [
        "def transpuesta(A1):\n",
        "  T=np.zeros((len(A1),len(A1)))\n",
        "  for i in range(len(A1)):\n",
        "    for j in range(len(A1)):\n",
        "      T[j][i]=A1[i][j]\n",
        "  return T\n",
        "\n",
        "def transpuesta(B1):\n",
        "  T=np.zeros((len(B1),len(B1)))\n",
        "  for i in range(len(B1)):\n",
        "    for j in range(len(B1)):\n",
        "      T[j][i]=B1[i][j]\n",
        "  return T\n",
        "\n",
        "print(transpuesta(A1))\n",
        "print(transpuesta(B1))"
      ],
      "metadata": {
        "colab": {
          "base_uri": "https://localhost:8080/"
        },
        "id": "8PaxLnhJHiap",
        "outputId": "909210fd-4dc5-4f5a-cebb-240c3169dcad"
      },
      "execution_count": 9,
      "outputs": [
        {
          "output_type": "stream",
          "name": "stdout",
          "text": [
            "[[1. 1. 1.]\n",
            " [1. 1. 1.]\n",
            " [1. 1. 1.]]\n",
            "[[1. 1. 1.]\n",
            " [1. 1. 1.]\n",
            " [1. 1. 1.]]\n"
          ]
        }
      ]
    },
    {
      "cell_type": "markdown",
      "source": [
        "**5.- Encontrar el máximo y el mínimo elemento de una matriz**"
      ],
      "metadata": {
        "id": "705iwLVcRSM1"
      }
    },
    {
      "cell_type": "code",
      "source": [
        "def maximo(A1):\n",
        "  maxA=A[0][0]\n",
        "  for i in range(len(A1)):\n",
        "    for j in range(len(A1)):\n",
        "      if A1[i][j]>maxA:\n",
        "        maxA=A1[i][j]\n",
        "  return maxA\n",
        "\n",
        "def minimo(A1):\n",
        "  minA=A1[0][0]\n",
        "  for i in range(len(A1)):\n",
        "    for j in range(len(A1)):\n",
        "      if A1[i][j]<minA:\n",
        "        minA=A1[i][j]\n",
        "  return minA\n",
        "\n",
        "def maximo(B1):\n",
        "  maxB=B1[0][0]\n",
        "  for i in range(len(B1)):\n",
        "    for j in range(len(B1)):\n",
        "      if B1[i][j]>maxB:\n",
        "        maxB=B1[i][j]\n",
        "  return maxB\n",
        "\n",
        "def minimo(B1):\n",
        "  minB=B1[0][0]\n",
        "  for i in range(len(B1)):\n",
        "    for j in range(len(B1)):\n",
        "      if B1[i][j]<minB:\n",
        "        minB=B1[i][j]\n",
        "  return minB\n",
        "\n",
        "print(maximo(A1))\n",
        "print(minimo(A1))\n",
        "print(maximo(B1))\n",
        "print(minimo(B1))"
      ],
      "metadata": {
        "colab": {
          "base_uri": "https://localhost:8080/"
        },
        "id": "KsPfQpfxReuG",
        "outputId": "4f9790d3-bce6-4b83-9853-70ab3f23edd5"
      },
      "execution_count": 10,
      "outputs": [
        {
          "output_type": "stream",
          "name": "stdout",
          "text": [
            "1\n",
            "1\n",
            "1\n",
            "1\n"
          ]
        }
      ]
    },
    {
      "cell_type": "markdown",
      "source": [
        "**6.- Calcula la suma del cuadrado de los elementos de una matriz**"
      ],
      "metadata": {
        "id": "-DrzQWtNRfVK"
      }
    },
    {
      "cell_type": "code",
      "source": [
        "def suma_cuadrados(A1):\n",
        "  suma=0\n",
        "  for i in range(len(A1)):\n",
        "    for j in range(len(A1)):\n",
        "      suma=suma+A1[i][j]**2\n",
        "  return suma\n",
        "\n",
        "def suma_cuadrados(B1):\n",
        "  suma=0\n",
        "  for i in range(len(B1)):\n",
        "    for j in range(len(B1)):\n",
        "      suma=suma+B1[i][j]**2\n",
        "  return suma\n",
        "\n",
        "print(suma_cuadrados(A1))\n",
        "print(suma_cuadrados(B1))"
      ],
      "metadata": {
        "colab": {
          "base_uri": "https://localhost:8080/"
        },
        "id": "BKzAjN7sRrpW",
        "outputId": "60d9938b-7a4a-497a-c6a4-e603e7c15e4a"
      },
      "execution_count": 12,
      "outputs": [
        {
          "output_type": "stream",
          "name": "stdout",
          "text": [
            "9\n",
            "9\n"
          ]
        }
      ]
    },
    {
      "cell_type": "markdown",
      "source": [
        "**7.- La potencia de una matriz**"
      ],
      "metadata": {
        "id": "dcaLvxeLRtDO"
      }
    },
    {
      "cell_type": "code",
      "source": [
        "potencia=np.power(A1,2)\n",
        "potencia"
      ],
      "metadata": {
        "colab": {
          "base_uri": "https://localhost:8080/"
        },
        "id": "BedFHYr82Ql_",
        "outputId": "97bc8dd7-e56b-42b4-806a-9d216308359b"
      },
      "execution_count": 13,
      "outputs": [
        {
          "output_type": "execute_result",
          "data": {
            "text/plain": [
              "array([[1, 1, 1],\n",
              "       [1, 1, 1],\n",
              "       [1, 1, 1]])"
            ]
          },
          "metadata": {},
          "execution_count": 13
        }
      ]
    },
    {
      "cell_type": "markdown",
      "source": [
        "**8.- Dadas las matrices A y B**\n",
        "\n",
        "$A=\\begin{bmatrix}\n",
        "11 &7  &-1  \\\\\n",
        "-3 &5  &2  \\\\\n",
        "4 &2  &-2  \\\\\n",
        "\\end{bmatrix}\n",
        "\\quad B=\\begin{bmatrix}\n",
        "1 &1  &1  \\\\\n",
        "10 &3  &-5  \\\\\n",
        "-6 &-10  &-3  \\\\\n",
        "\\end{bmatrix}$\n",
        "\n",
        "**Calcula:**\n",
        "\n",
        "* $2B+3A$"
      ],
      "metadata": {
        "id": "V_oIcPYVSvjm"
      }
    },
    {
      "cell_type": "code",
      "source": [
        "import numpy as np\n",
        "\n",
        "A=np.array([[11, 7, -1], [-3, 5, 2], [4, 2, -2]])\n",
        "B=np.array([[1, 1, 1], [10, 3, -5], [-6, -10, -3]])\n",
        "\n",
        "2*B+3*A"
      ],
      "metadata": {
        "colab": {
          "base_uri": "https://localhost:8080/"
        },
        "id": "WGqYRqfyVTEr",
        "outputId": "dff42e6c-d39f-49d7-8071-a54a263577a5"
      },
      "execution_count": 1,
      "outputs": [
        {
          "output_type": "execute_result",
          "data": {
            "text/plain": [
              "array([[ 35,  23,  -1],\n",
              "       [ 11,  21,  -4],\n",
              "       [  0, -14, -12]])"
            ]
          },
          "metadata": {},
          "execution_count": 1
        }
      ]
    },
    {
      "cell_type": "markdown",
      "source": [
        "* $(B+2A)^2$"
      ],
      "metadata": {
        "id": "ttRls0Cpvp0w"
      }
    },
    {
      "cell_type": "code",
      "source": [
        "(B+2*A)**2"
      ],
      "metadata": {
        "colab": {
          "base_uri": "https://localhost:8080/"
        },
        "id": "UmuFUeriv9fC",
        "outputId": "d0378eef-e884-4fda-e701-753474aabcd9"
      },
      "execution_count": 2,
      "outputs": [
        {
          "output_type": "execute_result",
          "data": {
            "text/plain": [
              "array([[529, 225,   1],\n",
              "       [ 16, 169,   1],\n",
              "       [  4,  36,  49]])"
            ]
          },
          "metadata": {},
          "execution_count": 2
        }
      ]
    },
    {
      "cell_type": "markdown",
      "source": [
        "* $A^2+3B$"
      ],
      "metadata": {
        "id": "vPVvkxTrwFoa"
      }
    },
    {
      "cell_type": "code",
      "source": [
        "A**2+3*B"
      ],
      "metadata": {
        "colab": {
          "base_uri": "https://localhost:8080/"
        },
        "id": "bXMyB7VswOP7",
        "outputId": "01423531-8353-4e76-ed07-e58e8d099653"
      },
      "execution_count": 3,
      "outputs": [
        {
          "output_type": "execute_result",
          "data": {
            "text/plain": [
              "array([[124,  52,   4],\n",
              "       [ 39,  34, -11],\n",
              "       [ -2, -26,  -5]])"
            ]
          },
          "metadata": {},
          "execution_count": 3
        }
      ]
    },
    {
      "cell_type": "markdown",
      "source": [
        "***Matplotlib***\n",
        "\n",
        "Grafica en Python la familia de curvas para la solución de la ecuación diferencial\n",
        "\n",
        "$y=(x-1)+Ce^{-x}$\n",
        "\n",
        "y en un solo gráfico muestra de diferente color las curvas para los siguientes tres casos:\n",
        "\n",
        "\n",
        "\n",
        "*   Para valores de $C>0$\n",
        "*   Cuando $C=0$\n",
        "*   Para valores $C<0$\n",
        "\n",
        "\n",
        "Señala en el gráfico las curvas que correspondan a cada uno de los tres casos\n",
        "\n"
      ],
      "metadata": {
        "id": "BleXjOG55G-Y"
      }
    },
    {
      "cell_type": "code",
      "source": [
        "import matplotlib.pyplot as plt\n",
        "import numpy as np\n",
        "\n",
        "x1=np.linspace(-2,10,100)\n",
        "y1=x-(1)+np.exp(-x)\n",
        "\n",
        "x2=np.linspace(-2,10,100)\n",
        "y2=x-(1)+0*np.exp(-x)\n",
        "\n",
        "x3=np.linspace(-2,10,100)\n",
        "y3=x-(1)+(-1)*np.exp(-x)\n",
        "\n",
        "plt.plot(x1,y1,x2,y2,x3,y3)\n",
        "plt.legend(['C>0','C=0','C<0'])\n",
        "plt.show()\n"
      ],
      "metadata": {
        "colab": {
          "base_uri": "https://localhost:8080/",
          "height": 430
        },
        "id": "zIqrEbmOB6YV",
        "outputId": "511e95c7-b501-417f-d21a-a58b191b7de5"
      },
      "execution_count": 16,
      "outputs": [
        {
          "output_type": "display_data",
          "data": {
            "text/plain": [
              "<Figure size 640x480 with 1 Axes>"
            ],
            "image/png": "[encoded data removed]"
          },
          "metadata": {}
        }
      ]
    },
    {
      "cell_type": "markdown",
      "source": [
        "Sea la función\n",
        "\n",
        "$\\frac{3x+7}{x^2-4}$\n",
        "\n",
        "Utilizando la librería matplotlib\n",
        "\n",
        "*   Grafique la función con línea continua para un rango de -10 a 10, con más de 1000 muestras.\n",
        "*   Investigue en la literatura cómo graficar las asíntotas horizontales y verticales. Muéstralas en el gráfico con líneas punteadas.\n",
        "*   Define los límites del eje $y$ para evitar que la gráfica muestre valores muy altos o muy bajos cerca de las asíntotas verticales.\n",
        "*   Añada una leyenda indicando los elementos presentes en la gráfica\n",
        "\n"
      ],
      "metadata": {
        "id": "TnSfm7IOKxiT"
      }
    },
    {
      "cell_type": "code",
      "source": [
        "import matplotlib.pyplot as plt\n",
        "import numpy as np\n",
        "\n",
        "x=np.linspace(-10,10,1000)\n",
        "y=(3*x+7)/(x**2-4 )\n",
        "\n",
        "plt.plot(x, y, label=\"f(x)=3x+7/(x^2)-4\")\n",
        "\n",
        "plt.axvline(x=-2,color=\"red\",linestyle=\":\", label=\"Asíntota vertical en x=-2\")\n",
        "plt.axvline(x=2,color=\"red\",linestyle=\":\", label=\"Asíntota vertical en x=2\")\n",
        "plt.axhline(y=-0.425,color=\"green\",linestyle=\":\", label=\"Asíntota horizontal en y=-0.425\")\n",
        "\n",
        "plt.legend()\n",
        "\n",
        "#plt.xlim(-10,10)\n",
        "plt.ylim(-10,10)\n",
        "\n",
        "plt.show()"
      ],
      "metadata": {
        "colab": {
          "base_uri": "https://localhost:8080/",
          "height": 435
        },
        "id": "jS-wfw0QQtB4",
        "outputId": "daa175b7-a35f-4d74-d155-8969d3f44a65"
      },
      "execution_count": 41,
      "outputs": [
        {
          "output_type": "display_data",
          "data": {
            "text/plain": [
              "<Figure size 640x480 with 1 Axes>"
            ],
            "image/png": "[encoded data removed]"
          },
          "metadata": {}
        }
      ]
    }
  ]
}