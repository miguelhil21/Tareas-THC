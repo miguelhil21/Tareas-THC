{
  "nbformat": 4,
  "nbformat_minor": 0,
  "metadata": {
    "colab": {
      "provenance": [],
      "authorship_tag": "ABX9TyNHdH7nhQ5cG9/C5A4MeIzm",
      "include_colab_link": true
    },
    "kernelspec": {
      "name": "python3",
      "display_name": "Python 3"
    },
    "language_info": {
      "name": "python"
    }
  },
  "cells": [
    {
      "cell_type": "markdown",
      "metadata": {
        "id": "view-in-github",
        "colab_type": "text"
      },
      "source": [
        "<a href=\"https://colab.research.google.com/github/miguelhil21/Tareas-THC/blob/main/Tarea_3_Miguel_Angel_Islas_Lozano.ipynb\" target=\"_parent\"><img src=\"https://colab.research.google.com/assets/colab-badge.svg\" alt=\"Open In Colab\"/></a>"
      ]
    },
    {
      "cell_type": "markdown",
      "source": [
        "**Variables.**\n"
      ],
      "metadata": {
        "id": "7BXwV1Hfv-Am"
      }
    },
    {
      "cell_type": "markdown",
      "source": [
        "*Ejercicio 1*: Calculadora Simple: Crea un programa que solicite al usuario dos números y realice operaciones básicas como suma, resta, multiplicación y división. Muestra los resultados usando variables."
      ],
      "metadata": {
        "id": "S72tHOQ7BVRq"
      }
    },
    {
      "cell_type": "markdown",
      "source": [],
      "metadata": {
        "id": "mtYhaa4eCLIW"
      }
    },
    {
      "cell_type": "code",
      "source": [
        "Num1 = float(input(\"Ingrese el primer número:\"))      # Se solicita al usuario el primer número\n",
        "Num2 = float(input(\"Ingrese el segundo número:\"))     # Se solicita al usuario el segundo número\n",
        "\n",
        "# Se definen las operaciones\n",
        "suma = Num1 + Num2\n",
        "resta = Num1 - Num2\n",
        "multiplicacion = Num1 * Num2\n",
        "\n",
        "#Para definir la dividión hay que indicar qué ocurre en caso de qie Num2=0\n",
        "if Num2 != 0:\n",
        "    division = Num1 / Num2\n",
        "else:\n",
        "    #division = \"No se puede dividir por cero\"\n",
        "    print(\"No se puede dividir por cero\")\n",
        "\n",
        "#Arrojar los resultados\n",
        "print(f\"Suma:\", suma)\n",
        "print(f\"Resta:\", resta)\n",
        "print(f\"Multiplicación:\", multiplicacion)\n",
        "print(f\"División:\", division)"
      ],
      "metadata": {
        "colab": {
          "base_uri": "https://localhost:8080/"
        },
        "id": "ifL6Cja79eA6",
        "outputId": "8489362d-1b83-44a8-ab25-80a7a8847d3b"
      },
      "execution_count": null,
      "outputs": [
        {
          "output_type": "stream",
          "name": "stdout",
          "text": [
            "Ingrese el primer número:5\n",
            "Ingrese el segundo número:2\n",
            "Suma: 7.0\n",
            "Resta: 3.0\n",
            "Multiplicación: 10.0\n",
            "División: 2.5\n"
          ]
        }
      ]
    },
    {
      "cell_type": "markdown",
      "source": [
        "*Ejercicio 2*: Conversión de Temperaturas: Escribe un programa que permita al usuario ingresar una temperatura en grados Celsius y luego la convierta a grados Fahrenheit utilizando una variable para almacenar la fórmula de conversión."
      ],
      "metadata": {
        "id": "9Dw_2XIzBS80"
      }
    },
    {
      "cell_type": "code",
      "source": [
        "Temp_Cel = float(input(\"Ingrese la temperatura en grados Celsius:\" ))\n",
        "\n",
        "Temp_Fah = (Temp_Cel * 9/5) + 32\n",
        "\n",
        "print(f\"La temperatura en grados Fahrenheit es:\", Temp_Fah)"
      ],
      "metadata": {
        "colab": {
          "base_uri": "https://localhost:8080/"
        },
        "id": "bBJtztzUCKok",
        "outputId": "730f2f6d-2d8d-46e6-eed2-3d051fd19545"
      },
      "execution_count": null,
      "outputs": [
        {
          "output_type": "stream",
          "name": "stdout",
          "text": [
            "Ingrese la temperatura en grados Celsius:5\n",
            "La temperatura en grados Fahrenheit es: 41.0\n"
          ]
        }
      ]
    },
    {
      "cell_type": "markdown",
      "source": [
        "*Ejercicio 4* : Contador de Palabras: Crea un programa que tome una cadena de texto ingresada por el usuario y cuente cuántas palabras contiene. Utiliza una variable para mantener el contador."
      ],
      "metadata": {
        "id": "U52tp-jBAkj6"
      }
    },
    {
      "cell_type": "code",
      "source": [
        "cadena_texto = input(\"Ingrese un texto: \")\n",
        "lista_de_palabras = cadena_texto.split()\n",
        "print(f\"La cantidad de palabras ingresadas es:\", len(lista_de_palabras))"
      ],
      "metadata": {
        "colab": {
          "base_uri": "https://localhost:8080/"
        },
        "id": "2YaL6tCiAu4N",
        "outputId": "a04e1958-776d-4286-8578-321c8db7bbf5"
      },
      "execution_count": null,
      "outputs": [
        {
          "output_type": "stream",
          "name": "stdout",
          "text": [
            "Ingrese un texto: Hola, ¿qué tal? ¿cómo va tu día?\n",
            "La cantidad de palabras ingresadas es: 7\n"
          ]
        }
      ]
    },
    {
      "cell_type": "markdown",
      "source": [
        "*Ejercicio 6*: Cálculo del Promedio: Escribe un programa que permita al usuario ingresar una lista de números separados por comas y luego calcule su promedio utilizando variables."
      ],
      "metadata": {
        "id": "9VQiPPsCEMJ1"
      }
    },
    {
      "cell_type": "code",
      "source": [
        "Lista_Num = input(\"Ingrese una lista de números separados por comas:\")\n",
        "\n",
        "Lista_Num = [float(x) for x in Lista_Num.split(',')]  #Convierte la cadena de entrada en una lista de números\n",
        "\n",
        "Promedio = sum(Lista_Num) / len(Lista_Num)\n",
        "\n",
        "print(f\"El promedio de la lista es:\", Promedio)"
      ],
      "metadata": {
        "id": "uL99SjvHEKzl",
        "colab": {
          "base_uri": "https://localhost:8080/"
        },
        "outputId": "0929dc4a-f782-4d74-81a8-245cb5a7a791"
      },
      "execution_count": null,
      "outputs": [
        {
          "output_type": "stream",
          "name": "stdout",
          "text": [
            "Ingrese una lista de números separados por comas:2, 3, 5, 8, 9\n",
            "El promedio de la lista es: 5.4\n"
          ]
        }
      ]
    },
    {
      "cell_type": "markdown",
      "source": [
        "*Ejercicio 10* : Registro de Estudiantes: Crea un programa que permita a un profesor registrar los nombres y calificaciones de varios estudiantes. Utiliza variables para almacenar los nombres, calificaciones y calcular el promedio."
      ],
      "metadata": {
        "id": "ChK7J4II3vm_"
      }
    },
    {
      "cell_type": "code",
      "source": [
        "Lista_Alumnos = str(input(\"Ingrese los nombres de los alumnos separados por comas: \"))\n",
        "Lista_Calificaciones = input(\"Ingrese las calificaciones de los alumnos: \")\n",
        "Calificaciones = [float(x) for x in Lista_Calificaciones.split(',')]\n",
        "Promedio = sum(Calificaciones) / len(Calificaciones)\n",
        "\n",
        "print(f\"Los alumnos son:\", Lista_Alumnos)\n",
        "print(f\"Las calificaciones son:\", Calificaciones)\n",
        "print(f\"El promedio de las calificaciones es:\", Promedio)"
      ],
      "metadata": {
        "colab": {
          "base_uri": "https://localhost:8080/"
        },
        "id": "cL5oMnll4O08",
        "outputId": "17751443-3a98-42b0-969a-458edb9a3d81"
      },
      "execution_count": null,
      "outputs": [
        {
          "output_type": "stream",
          "name": "stdout",
          "text": [
            "Ingrese los nombres de los alumnos separados por comas: Miguel, Janeth, Héctor, Daniela, Adriana, Valentina, Amelie\n",
            "Ingrese las calificaciones de los alumnos: 9, 10, 8, 10, 7, 8, 7\n",
            "Los alumnos son: Miguel, Janeth, Héctor, Daniela, Adriana, Valentina, Amelie\n",
            "Las calificaciones son: [9.0, 10.0, 8.0, 10.0, 7.0, 8.0, 7.0]\n",
            "El promedio de las calificaciones es: 8.428571428571429\n"
          ]
        }
      ]
    },
    {
      "cell_type": "markdown",
      "source": [
        "**Sintaxis, comentarios, tipos de datos.**"
      ],
      "metadata": {
        "id": "ZxXkF0m9GWfh"
      }
    },
    {
      "cell_type": "markdown",
      "source": [
        "*Ejercicio 2* : Comentarios Descriptivos 2. Escribe un programa simple que realice una tarea específica, como calcular el área de un rectángulo o imprimir una tabla de multiplicar. Agrega comentarios descriptivos en el código para explicar cada paso del proceso."
      ],
      "metadata": {
        "id": "Rade7x3hGimF"
      }
    },
    {
      "cell_type": "code",
      "source": [
        "#Calcular el área de un rectángulo\n",
        "\n",
        "base = float(input(\"Ingrese la base del rectángulo: \"))            #Se solicita al usuario la base del rectángulo\n",
        "altura = float(input(\"Ingrese la altura del rectángulo: \"))        #Se solicita al usuario la altura de rectángulo\n",
        "\n",
        "area = base * altura                                               #Se calcula el área del rectángulo, definiendo la variable \"area\" como el producto de los datos ingresados por el usuario.\n",
        "\n",
        "print(f\"El área del rectángulo es:\", area)                         #Se imprime el resultado del área del rectángulo"
      ],
      "metadata": {
        "colab": {
          "base_uri": "https://localhost:8080/"
        },
        "id": "IkGWlQxJGtlu",
        "outputId": "34c11077-bff9-44e4-c4ea-164db800def7"
      },
      "execution_count": null,
      "outputs": [
        {
          "output_type": "stream",
          "name": "stdout",
          "text": [
            "Ingrese la base del rectángulo: 4.5\n",
            "Ingrese la altura del rectángulo: 2\n",
            "El área del rectángulo es: 9.0\n"
          ]
        }
      ]
    },
    {
      "cell_type": "markdown",
      "source": [
        "*Ejercicio 3* : Comentarios Informativos 5. Escribe un programa que resuelva un problema o realice una tarea interesante. Agrega comentarios informativos que expliquen la lógica detrás de cada paso importante del programa."
      ],
      "metadata": {
        "id": "DFYQeqT7G4xF"
      }
    },
    {
      "cell_type": "code",
      "source": [
        "#Sumar los primeros \"n\" números naturales donde el límite es determinado por el usuario\n",
        "\n",
        "Num = int(input(\"Ingrese el límite superior de la suma \"))   #Se solicita al usuario el límite superior de la suma\n",
        "\n",
        "suma = (Num * (Num + 1)) / 2                                 #Se utiliza la fórmula de Gauss para definir la variable \"suma\" y que esta nos arroje lo que queremos\n",
        "\n",
        "print(f\"La suma de los números del 1 al \", Num, \" es: \", suma)     #Realiza la suma de los números desde 1 hasta el límite indicado por el usuario"
      ],
      "metadata": {
        "colab": {
          "base_uri": "https://localhost:8080/"
        },
        "id": "qzMuiGZAHHFa",
        "outputId": "fe4413d3-c47c-4ae7-9384-c873f55f5e87"
      },
      "execution_count": null,
      "outputs": [
        {
          "output_type": "stream",
          "name": "stdout",
          "text": [
            "Ingrese el límite superior de la suma 85\n",
            "La suma de los números del 1 al  85  es:  3655.0\n"
          ]
        }
      ]
    },
    {
      "cell_type": "markdown",
      "source": [
        "*Ejercicio 6* : Creación de un Programa con Comentarios de Uso 9. Escribe un programa que sea útil para los usuarios. Agrega comentarios al principio del programa que expliquen cómo se usa el programa y qué se espera que hagan los usuarios."
      ],
      "metadata": {
        "id": "pl37Tcw7HHru"
      }
    },
    {
      "cell_type": "code",
      "source": [
        "# Calculadora de descuentos. Este programa solicita al usuario un precio inicial y un porcentaje de descuento y arroja el monto del descuento así como el precio final con descuento.\n",
        "# Se espera que el usuario pueda tener conociemiento de distintos precios después de aplicarles cierto porcentaje de descuento, así como el monto de descuento aplicado de una forma rápida y eficaz\n",
        "\n",
        "precio_inicial = float(input(\"Ingrese el precio inicial: \"))\n",
        "porcentaje_descuento = float(input(\"Ingrese el porcentaje de descuento: \"))\n",
        "\n",
        "monto_descuento = precio_inicial * (porcentaje_descuento / 100)\n",
        "\n",
        "precio_final = precio_inicial * (1 - (porcentaje_descuento / 100))\n",
        "\n",
        "print(f\"El monto del descuento es:\", monto_descuento)\n",
        "print(f\"El precio final con descuento es:\", precio_final)"
      ],
      "metadata": {
        "colab": {
          "base_uri": "https://localhost:8080/"
        },
        "id": "3TvDnzNWHQje",
        "outputId": "e240e782-d863-4b8d-a453-b837bfdd3ba7"
      },
      "execution_count": null,
      "outputs": [
        {
          "output_type": "stream",
          "name": "stdout",
          "text": [
            "Ingrese el precio inicial: 500\n",
            "Ingrese el porcentaje de descuento: 27.2\n",
            "El monto del descuento es: 136.0\n",
            "El precio final con descuento es: 364.0\n"
          ]
        }
      ]
    }
  ]
}